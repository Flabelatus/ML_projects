{
 "cells": [
  {
   "cell_type": "code",
   "execution_count": 35,
   "id": "6081d0c8",
   "metadata": {},
   "outputs": [],
   "source": [
    "import matplotlib.pyplot as plt\n",
    "import pandas as pd\n",
    "from sklearn.linear_model import LinearRegression"
   ]
  },
  {
   "cell_type": "code",
   "execution_count": 3,
   "id": "ea611c4e",
   "metadata": {},
   "outputs": [],
   "source": [
    "data = pd.read_csv('lsd_math_score_data.csv')"
   ]
  },
  {
   "cell_type": "code",
   "execution_count": 4,
   "id": "0bbe41ee",
   "metadata": {
    "collapsed": true
   },
   "outputs": [
    {
     "name": "stdout",
     "output_type": "stream",
     "text": [
      "   Time_Delay_in_Minutes  LSD_ppm  Avg_Math_Test_Score\n",
      "0                      5     1.17                78.93\n",
      "1                     15     2.97                58.20\n",
      "2                     30     3.26                67.47\n",
      "3                     60     4.69                37.47\n",
      "4                    120     5.83                45.65\n",
      "5                    240     6.00                32.92\n",
      "6                    480     6.41                29.97\n"
     ]
    }
   ],
   "source": [
    "print(data)"
   ]
  },
  {
   "cell_type": "code",
   "execution_count": 9,
   "id": "611baacf",
   "metadata": {
    "scrolled": true
   },
   "outputs": [
    {
     "data": {
      "text/plain": [
       "pandas.core.frame.DataFrame"
      ]
     },
     "execution_count": 9,
     "metadata": {},
     "output_type": "execute_result"
    }
   ],
   "source": [
    "type(data)\n",
    "# You can look up info in the CSV columns via Key in a '' similar to\n",
    "# dictionary"
   ]
  },
  {
   "cell_type": "code",
   "execution_count": 11,
   "id": "3e1f76b6",
   "metadata": {
    "collapsed": true
   },
   "outputs": [
    {
     "name": "stdout",
     "output_type": "stream",
     "text": [
      "0    78.93\n",
      "1    58.20\n",
      "2    67.47\n",
      "3    37.47\n",
      "4    45.65\n",
      "5    32.92\n",
      "6    29.97\n",
      "Name: Avg_Math_Test_Score, dtype: float64\n"
     ]
    }
   ],
   "source": [
    "average_scores = data['Avg_Math_Test_Score']\n",
    "print(average_scores)"
   ]
  },
  {
   "cell_type": "code",
   "execution_count": 13,
   "id": "88ba6a80",
   "metadata": {
    "collapsed": true
   },
   "outputs": [
    {
     "name": "stdout",
     "output_type": "stream",
     "text": [
      "   Time_Delay_in_Minutes  LSD_ppm  Avg_Math_Test_Score  High_Score\n",
      "0                      5     1.17                78.93         100\n",
      "1                     15     2.97                58.20         100\n",
      "2                     30     3.26                67.47         100\n",
      "3                     60     4.69                37.47         100\n",
      "4                    120     5.83                45.65         100\n",
      "5                    240     6.00                32.92         100\n",
      "6                    480     6.41                29.97         100\n"
     ]
    }
   ],
   "source": [
    "data['High_Score'] = 100\n",
    "print(data)"
   ]
  },
  {
   "cell_type": "code",
   "execution_count": 18,
   "id": "74a47c94",
   "metadata": {
    "collapsed": true
   },
   "outputs": [
    {
     "name": "stdout",
     "output_type": "stream",
     "text": [
      "   LSD_ppm  Avg_Math_Test_Score\n",
      "0     1.17                78.93\n",
      "1     2.97                58.20\n",
      "2     3.26                67.47\n",
      "3     4.69                37.47\n",
      "4     5.83                45.65\n",
      "5     6.00                32.92\n",
      "6     6.41                29.97\n"
     ]
    }
   ],
   "source": [
    "# Create a list of column names you want\n",
    "column_list = ['LSD_ppm', 'Avg_Math_Test_Score']\n",
    "\n",
    "# Assign the list to the data\n",
    "clean_data = data[column_list]\n",
    "\n",
    "# Alternatively you can write this as\n",
    "clean_data = data[['LSD_ppm', 'Avg_Math_Test_Score']]\n",
    "\n",
    "print(clean_data)"
   ]
  },
  {
   "cell_type": "code",
   "execution_count": 23,
   "id": "ff7336e1",
   "metadata": {
    "collapsed": true
   },
   "outputs": [
    {
     "name": "stdout",
     "output_type": "stream",
     "text": [
      "Type of y is:  <class 'pandas.core.frame.DataFrame'>\n",
      "Type of x is:  <class 'pandas.core.series.Series'>\n"
     ]
    }
   ],
   "source": [
    "y = data[['Avg_Math_Test_Score']]\n",
    "print('Type of y is: ', type(y))\n",
    "# If the pandas object is passed with a list as the key, the type would be\n",
    "# as of a DataFrame\n",
    "\n",
    "# If the pandas object is passed with a string as the key, the type would\n",
    "# be of a Series\n",
    "x = data['Avg_Math_Test_Score']\n",
    "print('Type of x is: ', type(x))"
   ]
  },
  {
   "cell_type": "code",
   "execution_count": 102,
   "id": "8ba952a3",
   "metadata": {},
   "outputs": [
    {
     "name": "stdout",
     "output_type": "stream",
     "text": [
      "Thetal:  -9.009466415296785\n",
      "Intercept:  89.12387376799308\n",
      "R-Square:  0.8778349707775889\n"
     ]
    }
   ],
   "source": [
    "times = data[['Time_Delay_in_Minutes']]\n",
    "lsd = data[['LSD_ppm']]\n",
    "score = data[['Avg_Math_Test_Score']]\n",
    "\n",
    "# Init the LR object\n",
    "regr = LinearRegression()\n",
    "regr.fit(lsd, score)\n",
    "\n",
    "# Thetal = Line slope\n",
    "print(\"Thetal: \", regr.coef_[0][0])\n",
    "# Intercept = constant value in the line where to position the line\n",
    "print('Intercept: ', regr.intercept_[0])\n",
    "# Score for the best fitted line (highest is best)\n",
    "print('R-Square: ', regr.score(lsd, score))\n",
    "\n",
    "# Predicts math score with amount of drugs in the tissue\n",
    "predicted_score = regr.predict(lsd)\n"
   ]
  },
  {
   "cell_type": "code",
   "execution_count": 109,
   "id": "96e81dbc",
   "metadata": {},
   "outputs": [
    {
     "data": {
      "image/png": "[encoded data removed]",
      "text/plain": [
       "<Figure size 432x288 with 1 Axes>"
      ]
     },
     "metadata": {
      "needs_background": "light"
     },
     "output_type": "display_data"
    }
   ],
   "source": [
    "%matplotlib inline\n",
    "\n",
    "# Setting sof the plot\n",
    "plt.title('Arithmetic vs LSD-25', fontsize=17)\n",
    "plt.ylabel('Performance Score', fontsize=14)\n",
    "plt.xlabel('Tissue LSD', fontsize=14)\n",
    "plt.text(x=0, y=-0.5, s='Wagner et al. (1968)', fontsize=12)\n",
    "plt.xticks(fontsize=14)\n",
    "plt.yticks(fontsize=14)\n",
    "plt.ylim = (25, 85)\n",
    "plt.xlim = (1, 7)\n",
    "plt.style.use('fivethirtyeight')\n",
    "\n",
    "plt.scatter(lsd, score, color='blue', alpha=0.5, s=100)\n",
    "plt.plot(lsd, score, color='green', linewidth=1)\n",
    "\n",
    "# Super imposed prediction model in the plot\n",
    "plt.plot(lsd, predicted_score, color='red', linewidth=2)\n",
    "plt.show()"
   ]
  },
  {
   "cell_type": "code",
   "execution_count": null,
   "id": "b59cbd7e",
   "metadata": {},
   "outputs": [],
   "source": []
  }
 ],
 "metadata": {
  "kernelspec": {
   "display_name": "Python 3 (ipykernel)",
   "language": "python",
   "name": "python3"
  },
  "language_info": {
   "codemirror_mode": {
    "name": "ipython",
    "version": 3
   },
   "file_extension": ".py",
   "mimetype": "text/x-python",
   "name": "python",
   "nbconvert_exporter": "python",
   "pygments_lexer": "ipython3",
   "version": "3.9.7"
  }
 },
 "nbformat": 4,
 "nbformat_minor": 5
}
